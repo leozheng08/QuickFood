{
 "cells": [
  {
   "cell_type": "code",
   "execution_count": 2,
   "metadata": {},
   "outputs": [],
   "source": [
    "import requests #import requests library\n",
    "import json,os,re,datetime\n",
    "import csv\n",
    "import pandas as pd\n",
    "from pandas import DataFrame\n",
    "zomato_api_key = '9eab72e952388a23dbd79a717940664a'"
   ]
  },
  {
   "cell_type": "code",
   "execution_count": 6,
   "metadata": {},
   "outputs": [],
   "source": [
    "rest_list=[]\n",
    "headers1={'user-key' : zomato_api_key}\n",
    "for i in range(1,50):\n",
    "    read_rest=[]\n",
    "    rests_url=('https://developers.zomato.com/api/v2.1/search?q=Chicago&start='+str(i+20*i)+'&count=20')# fetching the data from this url    \n",
    "    get_request = requests.get(rests_url,headers=headers1)\n",
    "    read_rest=json.loads(get_request.text)#loading the data fetched to an obejct\n",
    "    type(read_rest)\n",
    "    rest_list.append(read_rest)\n",
    "with open('chicago-yelp-reviews-for-es2.json', 'w') as outfile:\n",
    "    json.dump(rest_list, outfile)"
   ]
  },
  {
   "cell_type": "code",
   "execution_count": null,
   "metadata": {},
   "outputs": [],
   "source": []
  }
 ],
 "metadata": {
  "kernelspec": {
   "display_name": "Python 3",
   "language": "python",
   "name": "python3"
  },
  "language_info": {
   "codemirror_mode": {
    "name": "ipython",
    "version": 3
   },
   "file_extension": ".py",
   "mimetype": "text/x-python",
   "name": "python",
   "nbconvert_exporter": "python",
   "pygments_lexer": "ipython3",
   "version": "3.7.1"
  }
 },
 "nbformat": 4,
 "nbformat_minor": 2
}
